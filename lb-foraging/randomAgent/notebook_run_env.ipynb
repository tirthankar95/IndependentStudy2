{
 "cells": [
  {
   "cell_type": "code",
   "execution_count": 1,
   "metadata": {},
   "outputs": [
    {
     "name": "stdout",
     "output_type": "stream",
     "text": [
      "/usr/local/lib/python3.8/dist-packages/gym/spaces/box.py:73: UserWarning: \u001b[33mWARN: Box bound precision lowered by casting to float32\u001b[0m\n",
      "  logger.warn(\n",
      "INFO:__main__:EPISODE 0\n",
      "INFO:__main__:Action[[0, 0]] Reward[[0, 0]] Obs[(array([3., 1., 1., 2., 3., 1., 1., 5., 1.], dtype=float32), array([3., 1., 1., 1., 5., 1., 2., 3., 1.], dtype=float32))]\n",
      "INFO:__main__:Action[[2, 3]] Reward[[0, 0]] Obs[(array([3., 1., 1., 3., 3., 1., 1., 4., 1.], dtype=float32), array([3., 1., 1., 1., 4., 1., 3., 3., 1.], dtype=float32))]\n",
      "INFO:__main__:Action[[1, 3]] Reward[[0, 0]] Obs[(array([3., 1., 1., 2., 3., 1., 1., 3., 1.], dtype=float32), array([3., 1., 1., 1., 3., 1., 2., 3., 1.], dtype=float32))]\n",
      "INFO:__main__:Action[[4, 4]] Reward[[0, 0]] Obs[(array([3., 1., 1., 2., 4., 1., 1., 4., 1.], dtype=float32), array([3., 1., 1., 1., 4., 1., 2., 4., 1.], dtype=float32))]\n",
      "INFO:__main__:Action[[5, 5]] Reward[[0, 0]] Obs[(array([3., 1., 1., 2., 4., 1., 1., 4., 1.], dtype=float32), array([3., 1., 1., 1., 4., 1., 2., 4., 1.], dtype=float32))]\n",
      "INFO:__main__:Action[[2, 4]] Reward[[0, 0]] Obs[(array([3., 1., 1., 3., 4., 1., 1., 5., 1.], dtype=float32), array([3., 1., 1., 1., 5., 1., 3., 4., 1.], dtype=float32))]\n",
      "INFO:__main__:Action[[3, 5]] Reward[[0, 0]] Obs[(array([3., 1., 1., 3., 3., 1., 1., 5., 1.], dtype=float32), array([3., 1., 1., 1., 5., 1., 3., 3., 1.], dtype=float32))]\n",
      "INFO:__main__:Action[[5, 2]] Reward[[0, 0]] Obs[(array([3., 1., 1., 3., 3., 1., 2., 5., 1.], dtype=float32), array([3., 1., 1., 2., 5., 1., 3., 3., 1.], dtype=float32))]\n",
      "INFO:__main__:Action[[5, 3]] Reward[[0, 0]] Obs[(array([3., 1., 1., 3., 3., 1., 2., 4., 1.], dtype=float32), array([3., 1., 1., 2., 4., 1., 3., 3., 1.], dtype=float32))]\n",
      "INFO:__main__:Action[[4, 5]] Reward[[0, 0]] Obs[(array([3., 1., 1., 3., 4., 1., 2., 4., 1.], dtype=float32), array([3., 1., 1., 2., 4., 1., 3., 4., 1.], dtype=float32))]\n"
     ]
    }
   ],
   "source": [
    "!python3 py_run_env.py"
   ]
  }
 ],
 "metadata": {
  "kernelspec": {
   "display_name": "Python 3",
   "language": "python",
   "name": "python3"
  },
  "language_info": {
   "codemirror_mode": {
    "name": "ipython",
    "version": 3
   },
   "file_extension": ".py",
   "mimetype": "text/x-python",
   "name": "python",
   "nbconvert_exporter": "python",
   "pygments_lexer": "ipython3",
   "version": "3.8.10"
  },
  "orig_nbformat": 4
 },
 "nbformat": 4,
 "nbformat_minor": 2
}
